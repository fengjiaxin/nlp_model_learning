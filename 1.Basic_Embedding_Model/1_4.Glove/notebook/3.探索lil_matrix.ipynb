{
 "cells": [
  {
   "cell_type": "code",
   "execution_count": 1,
   "metadata": {},
   "outputs": [],
   "source": [
    "from scipy import sparse\n",
    "from collections import Counter\n",
    "import numpy as np"
   ]
  },
  {
   "cell_type": "code",
   "execution_count": 2,
   "metadata": {},
   "outputs": [],
   "source": [
    "# lil_matrix 使用两个列表保存非零元素，data保存每行中的非零元素，rows保存非零元素所在的列。\n",
    "# 这种格式很适合逐个添加元素，并且能快速获取行相关的数据\n",
    "\n",
    "b = sparse.lil_matrix((10,5))\n",
    "b[2,3] = 1.0\n",
    "b[3,4] = 2.0\n",
    "b[3,2] = 3.0"
   ]
  },
  {
   "cell_type": "code",
   "execution_count": 3,
   "metadata": {},
   "outputs": [
    {
     "name": "stdout",
     "output_type": "stream",
     "text": [
      "[list([]) list([]) list([1.0]) list([3.0, 2.0]) list([]) list([]) list([])\n",
      " list([]) list([]) list([])]\n"
     ]
    }
   ],
   "source": [
    "print(b.data)"
   ]
  },
  {
   "cell_type": "code",
   "execution_count": 4,
   "metadata": {},
   "outputs": [
    {
     "name": "stdout",
     "output_type": "stream",
     "text": [
      "[list([]) list([]) list([3]) list([2, 4]) list([]) list([]) list([])\n",
      " list([]) list([]) list([])]\n"
     ]
    }
   ],
   "source": [
    "print(b.rows)"
   ]
  },
  {
   "cell_type": "code",
   "execution_count": 5,
   "metadata": {},
   "outputs": [],
   "source": [
    "# 根据提供的预料库，构建此表\n",
    "def build_vocab(corpus):\n",
    "    '''\n",
    "    build a vocabulary with word frequencies for an entire corpus\n",
    "    return a dic 'w -> (i,f)'\n",
    "    '''\n",
    "    print('building vocab from corpus')\n",
    "\n",
    "    vocab = Counter()\n",
    "    for line in corpus:\n",
    "        tokens = line.split()\n",
    "        vocab.update(tokens)\n",
    "\n",
    "    print('Done building vocab from corpus')\n",
    "    return {word:(i,freq) for i,(word,freq) in enumerate(vocab.items())}"
   ]
  },
  {
   "cell_type": "code",
   "execution_count": 6,
   "metadata": {},
   "outputs": [],
   "source": [
    "# 构建共现矩阵\n",
    "def build_cooccur(vocab,corpus,window_size=5):\n",
    "    '''\n",
    "    buil a word co-occurrence list for the given corpus\n",
    "    :param vocab:\n",
    "    :param corpus:\n",
    "    :param window_size:\n",
    "    :param min_count:\n",
    "    :return:\n",
    "    '''\n",
    "    vocab_size = len(vocab)\n",
    "    id2word = dict((i,word) for word,(i,_) in vocab.items())\n",
    "\n",
    "    # collect cooccurrences internally as a sparse matrix for passable\n",
    "    # indexing speed;we will convert into a list later\n",
    "    cooccurrences = sparse.lil_matrix((vocab_size,vocab_size),dtype=np.float64)\n",
    "\n",
    "    for i,line in enumerate(corpus):\n",
    "        if i % 1000 == 0:\n",
    "            print('building cooccurrence matrix: on line %i',i)\n",
    "\n",
    "        tokens = line.strip().split()\n",
    "        token_ids = [vocab[word][0] for word in tokens]\n",
    "\n",
    "        for center_i,center_id in enumerate(token_ids):\n",
    "            # collect all word ids in left window of center word\n",
    "            context_ids = token_ids[max(0,center_i - window_size):center_i]\n",
    "            contexts_len = len(context_ids)\n",
    "\n",
    "            for left_i,left_id in enumerate(context_ids):\n",
    "                # distance from center word\n",
    "                distance = contexts_len - left_i\n",
    "\n",
    "                # Weight by inverse of distance between words\n",
    "                increment = 1.0/float(distance)\n",
    "\n",
    "                # build co-occurrence matrix symmetrically\n",
    "                cooccurrences[center_id,left_id] += increment\n",
    "                cooccurrences[left_id,center_id] += increment\n",
    "\n",
    "    return cooccurrences"
   ]
  },
  {
   "cell_type": "code",
   "execution_count": 7,
   "metadata": {},
   "outputs": [],
   "source": [
    "x_max = 100\n",
    "alpha = 0.75\n",
    "\n",
    "def fw(X_c_s):\n",
    "    return (X_c_s/x_max) ** alpha if X_c_s < x_max else 1"
   ]
  },
  {
   "cell_type": "code",
   "execution_count": 8,
   "metadata": {},
   "outputs": [],
   "source": [
    "# coo_matrix.data 存储的是每行中的非零元素\n",
    "# coo_matrix.rows 保存非零元素所在的列\n",
    "from torch.utils.data import DataLoader,Dataset\n",
    "import torch\n",
    "class TrainData(Dataset):\n",
    "    def __init__(self,coo_matrix,vocab,id2word,min_count=5):\n",
    "        '''\n",
    "        coo_matrix:sparse.lil_matrix\n",
    "        vocab: word -> (index,freq)\n",
    "        '''\n",
    "        # 将coo_matrix的pair 以及权重存储到列表中\n",
    "        # ((i,j),X_ij)\n",
    "        self.coo_len = 0\n",
    "        coo_matrix_list = []\n",
    "        for i,(row,data) in enumerate(zip(coo_matrix.rows,coo_matrix.data)):\n",
    "            # 第i个单词，需要确定它是否<= min_count\n",
    "            word_i = id2word[i]\n",
    "            if min_count is not None and vocab[word_i][1] < min_count:\n",
    "                continue\n",
    "            for (j,x) in zip(row,data):\n",
    "                word_j = id2word[j]\n",
    "                if min_count is not None and vocab[word_j][1] < min_count:\n",
    "                    continue\n",
    "                coo_matrix_list.append(((i,j),x))\n",
    "        # 为了方便处理，将c,s,X_c_s,W_c_s都变成numpy矩阵\n",
    "        c_list = []\n",
    "        s_list = []\n",
    "        X_c_s_list = []\n",
    "        W_c_s_list = []\n",
    "        for ((c,s),x) in coo_matrix_list:\n",
    "            self.coo_len += 1\n",
    "            c_list.append(c)\n",
    "            s_list.append(s)\n",
    "            X_c_s_list.append(x)\n",
    "            W_c_s_list.append(fw(x))\n",
    "        # 转换成numpy\n",
    "        c_array = np.array(c_list)\n",
    "        s_array = np.array(s_list)\n",
    "        X_c_s_array = np.array(X_c_s_list)\n",
    "        W_c_s_array = np.array(W_c_s_list)\n",
    "        self.c = torch.from_numpy(c_array).long()\n",
    "        self.s = torch.from_numpy(s_array).long()\n",
    "        self.X_c_s = torch.from_numpy(X_c_s_array).double()\n",
    "        self.W_c_s = torch.from_numpy(W_c_s_array).double()\n",
    "    \n",
    "    def __len__(self):\n",
    "        return self.coo_len\n",
    "    \n",
    "    def __getitem__(self,index):\n",
    "        c = self.c[index]\n",
    "        s = self.s[index]\n",
    "        X_c_s = self.X_c_s[index]\n",
    "        W_c_s = self.W_c_s[index]\n",
    "        return c,s,X_c_s,W_c_s"
   ]
  },
  {
   "cell_type": "code",
   "execution_count": 9,
   "metadata": {},
   "outputs": [
    {
     "name": "stdout",
     "output_type": "stream",
     "text": [
      "building vocab from corpus\n",
      "Done building vocab from corpus\n",
      "building cooccurrence matrix: on line %i 0\n"
     ]
    }
   ],
   "source": [
    "corpus_file_name = '../data/mini_content_process.txt'\n",
    "corpus = []\n",
    "with open(corpus_file_name, 'r') as f:\n",
    "    for line in f:\n",
    "        corpus.append(line.strip())\n",
    "\n",
    "vocab = build_vocab(corpus)\n",
    "id2word = dict((i,word) for word,(i,_) in vocab.items())\n",
    "coo_matrix = build_cooccur(vocab,corpus,window_size=3)\n",
    "train_data = TrainData(coo_matrix,vocab,id2word,min_count=5)\n",
    "vocab_size = len(vocab)"
   ]
  },
  {
   "cell_type": "code",
   "execution_count": 10,
   "metadata": {},
   "outputs": [
    {
     "data": {
      "text/plain": [
       "7256"
      ]
     },
     "execution_count": 10,
     "metadata": {},
     "output_type": "execute_result"
    }
   ],
   "source": [
    "vocab_size"
   ]
  },
  {
   "cell_type": "code",
   "execution_count": 11,
   "metadata": {},
   "outputs": [],
   "source": [
    "data_loader = DataLoader(train_data,batch_size=2,shuffle=True)"
   ]
  },
  {
   "cell_type": "code",
   "execution_count": 12,
   "metadata": {},
   "outputs": [],
   "source": [
    "c = None\n",
    "s = None\n",
    "X_c_s = None\n",
    "W_c_s = None\n",
    "for i,(batch_c,batch_s,batch_X_c_s,batch_W_c_s) in enumerate(data_loader):\n",
    "    c = torch.LongTensor(batch_c)\n",
    "    s = torch.LongTensor(batch_s)\n",
    "    X_c_s = torch.DoubleTensor(batch_X_c_s)\n",
    "    W_c_s = torch.DoubleTensor(batch_W_c_s)\n",
    "    break"
   ]
  },
  {
   "cell_type": "code",
   "execution_count": 13,
   "metadata": {},
   "outputs": [
    {
     "data": {
      "text/plain": [
       "tensor([3969,  753])"
      ]
     },
     "execution_count": 13,
     "metadata": {},
     "output_type": "execute_result"
    }
   ],
   "source": [
    "c"
   ]
  },
  {
   "cell_type": "code",
   "execution_count": 14,
   "metadata": {},
   "outputs": [
    {
     "data": {
      "text/plain": [
       "tensor([1032,  139])"
      ]
     },
     "execution_count": 14,
     "metadata": {},
     "output_type": "execute_result"
    }
   ],
   "source": [
    "s"
   ]
  },
  {
   "cell_type": "code",
   "execution_count": 15,
   "metadata": {},
   "outputs": [
    {
     "data": {
      "text/plain": [
       "tensor([3.0000, 0.3333], dtype=torch.float64)"
      ]
     },
     "execution_count": 15,
     "metadata": {},
     "output_type": "execute_result"
    }
   ],
   "source": [
    "X_c_s"
   ]
  },
  {
   "cell_type": "code",
   "execution_count": 16,
   "metadata": {},
   "outputs": [
    {
     "data": {
      "text/plain": [
       "tensor([0.0721, 0.0139], dtype=torch.float64)"
      ]
     },
     "execution_count": 16,
     "metadata": {},
     "output_type": "execute_result"
    }
   ],
   "source": [
    "W_c_s"
   ]
  },
  {
   "cell_type": "code",
   "execution_count": 17,
   "metadata": {},
   "outputs": [],
   "source": [
    "from torch import nn\n",
    "embedding = nn.Embedding(vocab_size,2)"
   ]
  },
  {
   "cell_type": "code",
   "execution_count": 18,
   "metadata": {},
   "outputs": [
    {
     "data": {
      "text/plain": [
       "tensor([[-1.3956, -2.0539],\n",
       "        [ 0.2383,  1.3230]], grad_fn=<EmbeddingBackward>)"
      ]
     },
     "execution_count": 18,
     "metadata": {},
     "output_type": "execute_result"
    }
   ],
   "source": [
    "embedding(c)"
   ]
  },
  {
   "cell_type": "code",
   "execution_count": null,
   "metadata": {},
   "outputs": [],
   "source": [
    "class Glove(nn.Module):\n",
    "    def __init__(self,vocab_size,vector_size):\n",
    "        super(Glove,self).__init__()\n",
    "        # center words weight and bias\n",
    "        self.center_weight = nn.Embedding(vocab_size,vector_size)\n",
    "        self.center_biase = nn.Embedding(vocab_size,1)\n",
    "\n",
    "        # context words weight and bias\n",
    "        self.context_weight = nn.Embedding(vocab_size,vector_size)\n",
    "        self.context_biase = nn.Embedding(vocab_size,1)\n",
    "\n",
    "    def forward(self,center_ids,context_ids):\n",
    "        '''\n",
    "        cal v_i^Tv_k _ b_i + b_k\n",
    "        :param center_ids: [batch]\n",
    "        :param context_ids: [batch]\n",
    "        :return:\n",
    "        '''\n",
    "        # [batch,vector_size]\n",
    "        print('center_ids')\n",
    "        print(type(center_ids))\n",
    "        print(center_ids)\n",
    "        center_w = self.center_weight[center_ids]\n",
    "        # [batch,1]\n",
    "        center_b = self.center_biase[center_ids]\n",
    "\n",
    "\n",
    "        context_w = self.context_weight[center_ids]\n",
    "        context_b = self.context_biase[center_ids]\n",
    "\n",
    "        # [batch,1]\n",
    "        return torch.sum(center_w.mul(context_w),1,keepdim=True) + center_b + context_b\n"
   ]
  },
  {
   "cell_type": "code",
   "execution_count": 19,
   "metadata": {},
   "outputs": [],
   "source": [
    "\n",
    "center_weight = nn.Embedding(vocab_size,2)\n",
    "center_biase = nn.Embedding(vocab_size,1)\n",
    "\n",
    "context_weight = nn.Embedding(vocab_size,2)\n",
    "context_biase = nn.Embedding(vocab_size,1)"
   ]
  },
  {
   "cell_type": "code",
   "execution_count": 22,
   "metadata": {},
   "outputs": [],
   "source": [
    "center_w = center_weight(c)\n",
    "center_b = center_biase(c)\n",
    "\n",
    "context_w = context_weight(s)\n",
    "context_b = context_biase(s)"
   ]
  },
  {
   "cell_type": "code",
   "execution_count": null,
   "metadata": {},
   "outputs": [],
   "source": []
  }
 ],
 "metadata": {
  "kernelspec": {
   "display_name": "Python 3",
   "language": "python",
   "name": "python3"
  },
  "language_info": {
   "codemirror_mode": {
    "name": "ipython",
    "version": 3
   },
   "file_extension": ".py",
   "mimetype": "text/x-python",
   "name": "python",
   "nbconvert_exporter": "python",
   "pygments_lexer": "ipython3",
   "version": "3.6.7"
  }
 },
 "nbformat": 4,
 "nbformat_minor": 2
}
