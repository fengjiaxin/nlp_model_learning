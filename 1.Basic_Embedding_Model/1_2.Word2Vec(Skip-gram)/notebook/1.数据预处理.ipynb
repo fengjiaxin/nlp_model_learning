{
 "cells": [
  {
   "cell_type": "code",
   "execution_count": 1,
   "metadata": {},
   "outputs": [],
   "source": [
    "import pandas as pd\n",
    "import re\n",
    "import string \n",
    "from string import digits"
   ]
  },
  {
   "cell_type": "code",
   "execution_count": 4,
   "metadata": {},
   "outputs": [],
   "source": [
    "def remove_punctuation_digit_lower(line):\n",
    "    regex = re.compile('[%s]' % re.escape(string.punctuation))\n",
    "    # 去掉特殊字符\n",
    "    sentence = regex.sub('', line)\n",
    "\n",
    "    # 去掉数字\n",
    "    remove_digits = str.maketrans('', '', digits)\n",
    "    sentence = sentence.translate(remove_digits)\n",
    "\n",
    "    # 小写\n",
    "    sentence = sentence.lower()\n",
    "    \n",
    "    # 将多个空格变为一个空格\n",
    "    sentence = re.sub(' +', ' ', sentence)\n",
    "    return sentence\n",
    "\n",
    "# 目标是取出数据中的content列，将其作为一句话，然后去掉标点符号，数字，都转换为小写，然后写到新的文件中\n",
    "\n",
    "write_file = '../data/process_data/content_process.txt'\n",
    "\n",
    "data_file = '../data/origin_data/sample_train.csv'\n",
    "\n",
    "# pandas读取数据\n",
    "data_df = pd.read_csv(data_file, header=None, names=['label', 'title', 'content'])\n",
    "content_array = data_df.content.values\n",
    "\n",
    "with open(write_file,'w') as w:\n",
    "    for sentence in content_array:\n",
    "        sent = remove_punctuation_digit_lower(sentence)\n",
    "        w.write(sent + '\\n')"
   ]
  },
  {
   "cell_type": "code",
   "execution_count": null,
   "metadata": {},
   "outputs": [],
   "source": []
  }
 ],
 "metadata": {
  "kernelspec": {
   "display_name": "Python 3",
   "language": "python",
   "name": "python3"
  },
  "language_info": {
   "codemirror_mode": {
    "name": "ipython",
    "version": 3
   },
   "file_extension": ".py",
   "mimetype": "text/x-python",
   "name": "python",
   "nbconvert_exporter": "python",
   "pygments_lexer": "ipython3",
   "version": "3.6.7"
  }
 },
 "nbformat": 4,
 "nbformat_minor": 2
}
