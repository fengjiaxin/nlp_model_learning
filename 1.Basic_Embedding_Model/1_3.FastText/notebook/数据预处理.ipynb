{
 "cells": [
  {
   "cell_type": "code",
   "execution_count": 1,
   "metadata": {},
   "outputs": [],
   "source": [
    "sample_file = '../data/origin_data/sample_train.csv'"
   ]
  },
  {
   "cell_type": "code",
   "execution_count": 6,
   "metadata": {},
   "outputs": [
    {
     "name": "stdout",
     "output_type": "stream",
     "text": [
      "\"3\",\"Wall St. Bears Claw Back Into the Black (Reuters)\",\"Reuters - Short-sellers, Wall Street's dwindling\\band of ultra-cynics, are seeing green again.\"\n"
     ]
    }
   ],
   "source": [
    "!head -n 1 '../data/origin_data/sample_train.csv'"
   ]
  },
  {
   "cell_type": "code",
   "execution_count": 34,
   "metadata": {},
   "outputs": [],
   "source": [
    "#!/usr/bin/env python \n",
    "# -*- coding: utf-8 -*-\n",
    "# @Time    : 2019-10-30 15:12\n",
    "# @Author  : 冯佳欣\n",
    "# @File    : preprocess_data.py\n",
    "# @Desc    : 预处理数据\n",
    "\n",
    "import pandas as pd\n",
    "import re\n",
    "import string\n",
    "from string import digits\n",
    "import numpy as np\n",
    "import pickle\n",
    "\n",
    "\n",
    "def remove_punctuation_digit_lower(line):\n",
    "    regex = re.compile('[%s]' % re.escape(string.punctuation))\n",
    "    # 去掉特殊字符\n",
    "    sentence = regex.sub('', line)\n",
    "\n",
    "    # 去掉数字\n",
    "    remove_digits = str.maketrans('', '', digits)\n",
    "    sentence = sentence.translate(remove_digits)\n",
    "\n",
    "    # 小写\n",
    "    sentence = sentence.lower()\n",
    "    return sentence\n",
    "\n",
    "def get_all_data(data_file,word_to_ix,seq_len):\n",
    "    '''\n",
    "    将数据转换成映射\n",
    "    :param data_file:\n",
    "    :param word_to_ix:\n",
    "    :param seq_len:\n",
    "    :return: tensor: train_data:[len(data_file),seq_len]\n",
    "             tensor: train_label:[len(data_file)]\n",
    "    '''\n",
    "    data_df = pd.read_csv(data_file,header=None,names=['label','title','content'])\n",
    "    # 将标签减一\n",
    "    data_df['label'] = data_df['label'] - 1\n",
    "    data_len = len(data_df)\n",
    "\n",
    "    train_sentence_data = [[0] * seq_len for i in range(data_len)]\n",
    "    train_label = []\n",
    "\n",
    "    for sentence_idx,row in data_df.iterrows():\n",
    "        train_label.append(int(row['label']))\n",
    "        sentence = remove_punctuation_digit_lower(row['content'])\n",
    "        for word_idx,word in enumerate(sentence):\n",
    "            if word_idx >= seq_len:break\n",
    "            if word in word_to_ix:\n",
    "                mode_idx = word_to_ix[word]\n",
    "                train_sentence_data[sentence_idx][word_idx] = mode_idx\n",
    "\n",
    "    return np.array(train_sentence_data),np.array(train_label)"
   ]
  },
  {
   "cell_type": "code",
   "execution_count": 30,
   "metadata": {},
   "outputs": [],
   "source": [
    "word_to_ix_file = '../data/pickle_data/word_to_ix.pkl'\n",
    "word_to_ix = pickle.load(open(word_to_ix_file,'rb'))"
   ]
  },
  {
   "cell_type": "code",
   "execution_count": 31,
   "metadata": {},
   "outputs": [
    {
     "data": {
      "text/plain": [
       "400001"
      ]
     },
     "execution_count": 31,
     "metadata": {},
     "output_type": "execute_result"
    }
   ],
   "source": [
    "len(word_to_ix)"
   ]
  },
  {
   "cell_type": "code",
   "execution_count": 32,
   "metadata": {},
   "outputs": [
    {
     "data": {
      "text/plain": [
       "400001"
      ]
     },
     "execution_count": 32,
     "metadata": {},
     "output_type": "execute_result"
    }
   ],
   "source": [
    "len(set(word_to_ix.keys()))"
   ]
  },
  {
   "cell_type": "code",
   "execution_count": 35,
   "metadata": {},
   "outputs": [],
   "source": [
    "train_sentence,train_label = get_all_data(sample_file,word_to_ix,40)"
   ]
  },
  {
   "cell_type": "code",
   "execution_count": 36,
   "metadata": {},
   "outputs": [
    {
     "data": {
      "text/plain": [
       "array([[1912, 1111, 6480, ...,   42, 3815, 1969],\n",
       "       [1912, 1111, 6480, ..., 3525, 5026, 1111],\n",
       "       [1912, 1111, 6480, ..., 1912, 1912,   42],\n",
       "       ...,\n",
       "       [2160, 5919, 1111, ..., 2160,   42, 4869],\n",
       "       [1557, 1912, 6480, ..., 4869, 3421, 1111],\n",
       "       [4869, 3421, 1111, ..., 1111, 1912, 2160]])"
      ]
     },
     "execution_count": 36,
     "metadata": {},
     "output_type": "execute_result"
    }
   ],
   "source": [
    "train_sentence"
   ]
  },
  {
   "cell_type": "code",
   "execution_count": 37,
   "metadata": {},
   "outputs": [],
   "source": [
    "data_df = pd.read_csv(sample_file,header=None,names=['label','title','content'])"
   ]
  },
  {
   "cell_type": "code",
   "execution_count": 39,
   "metadata": {},
   "outputs": [
    {
     "data": {
      "text/plain": [
       "array([3, 3, 3, ..., 3, 3, 4])"
      ]
     },
     "execution_count": 39,
     "metadata": {},
     "output_type": "execute_result"
    }
   ],
   "source": [
    "data_df.label.values"
   ]
  },
  {
   "cell_type": "code",
   "execution_count": 44,
   "metadata": {},
   "outputs": [],
   "source": [
    "tt = data_df.content.values"
   ]
  },
  {
   "cell_type": "code",
   "execution_count": 46,
   "metadata": {},
   "outputs": [
    {
     "data": {
      "text/plain": [
       "10000"
      ]
     },
     "execution_count": 46,
     "metadata": {},
     "output_type": "execute_result"
    }
   ],
   "source": [
    "len(tt)"
   ]
  },
  {
   "cell_type": "code",
   "execution_count": null,
   "metadata": {},
   "outputs": [],
   "source": []
  }
 ],
 "metadata": {
  "kernelspec": {
   "display_name": "Python 3",
   "language": "python",
   "name": "python3"
  },
  "language_info": {
   "codemirror_mode": {
    "name": "ipython",
    "version": 3
   },
   "file_extension": ".py",
   "mimetype": "text/x-python",
   "name": "python",
   "nbconvert_exporter": "python",
   "pygments_lexer": "ipython3",
   "version": "3.6.7"
  }
 },
 "nbformat": 4,
 "nbformat_minor": 2
}
