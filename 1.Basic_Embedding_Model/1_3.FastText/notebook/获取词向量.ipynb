{
 "cells": [
  {
   "cell_type": "code",
   "execution_count": 1,
   "metadata": {},
   "outputs": [],
   "source": [
    "import numpy as np\n",
    "import pickle"
   ]
  },
  {
   "cell_type": "code",
   "execution_count": 10,
   "metadata": {},
   "outputs": [],
   "source": [
    "glove_file = '../data/word2vec_data/glove.6B.50d.txt'\n",
    "embedding_dim = 50\n",
    "\n",
    "vocab_list = ['<UNK>']\n",
    "vocab_matrix = [[0.0] * embedding_dim]\n",
    "\n",
    "with open(glove_file) as f:\n",
    "    for line in f:\n",
    "        vec = line.strip().split(' ')\n",
    "        #print(vec)\n",
    "        word = vec[0]\n",
    "        vocab_list.append(word)\n",
    "        word_vec = [float(x) for x in vec[1:]]\n",
    "        #print(len(word_vec))\n",
    "        assert len(word_vec) == embedding_dim\n",
    "        vocab_matrix.append(word_vec)\n",
    "\n",
    "vocab_array = np.array(vocab_matrix)\n",
    "\n",
    "word_to_ix = {}\n",
    "ix_to_word = {}\n",
    "\n",
    "for ix,word in enumerate(vocab_list):\n",
    "    word_to_ix[word] = ix\n",
    "    ix_to_word[ix] = word\n",
    "    \n",
    "vocab_array_pkl = '../data/pickle_data/glove_50d.pkl'\n",
    "word2ix_pkl = '../data/pickle_data/word_to_ix.pkl'\n",
    "ix2word_pkl = '../data/pickle_data/ix_to_word.pkl'\n",
    "\n",
    "\n",
    "with open(vocab_array_pkl,'wb') as w:\n",
    "    pickle.dump(vocab_array,w)\n",
    "    \n",
    "with open(word2ix_pkl,'wb') as w:\n",
    "    pickle.dump(word_to_ix,w)\n",
    "    \n",
    "with open(ix2word_pkl,'wb') as w:\n",
    "    pickle.dump(ix_to_word,w)"
   ]
  },
  {
   "cell_type": "code",
   "execution_count": null,
   "metadata": {},
   "outputs": [],
   "source": []
  }
 ],
 "metadata": {
  "kernelspec": {
   "display_name": "Python 3",
   "language": "python",
   "name": "python3"
  },
  "language_info": {
   "codemirror_mode": {
    "name": "ipython",
    "version": 3
   },
   "file_extension": ".py",
   "mimetype": "text/x-python",
   "name": "python",
   "nbconvert_exporter": "python",
   "pygments_lexer": "ipython3",
   "version": "3.6.7"
  }
 },
 "nbformat": 4,
 "nbformat_minor": 2
}
